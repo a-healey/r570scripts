{
 "cells": [
  {
   "cell_type": "code",
   "execution_count": 1,
   "metadata": {},
   "outputs": [],
   "source": [
    "import matplotlib.pyplot as plt\n",
    "import pandas as pd\n",
    "import numpy as np\n",
    "import seaborn as sns\n",
    "plt.rcParams['figure.figsize'] = (50,25)\n",
    "sns.set(style ='dark', font_scale = 1.8)\n",
    "pallete_cb =sns.color_palette('colorblind',10)"
   ]
  },
  {
   "cell_type": "code",
   "execution_count": 5,
   "metadata": {},
   "outputs": [],
   "source": [
    "#read in protein pairwise identity dataframe (combined output from PID_calc.R) for only S.officinarum alleles\n",
    "df_so=pd.read_csv(\"combinedOff.25kRandom.screenedWithOG.PIDs.dat\",\n",
    "              header=None,\n",
    "              sep = '\\t')"
   ]
  },
  {
   "cell_type": "code",
   "execution_count": 1,
   "metadata": {},
   "outputs": [
    {
     "ename": "NameError",
     "evalue": "name 'df_so' is not defined",
     "output_type": "error",
     "traceback": [
      "\u001b[0;31m---------------------------------------------------------------------------\u001b[0m",
      "\u001b[0;31mNameError\u001b[0m                                 Traceback (most recent call last)",
      "Input \u001b[0;32mIn [1]\u001b[0m, in \u001b[0;36m<cell line: 1>\u001b[0;34m()\u001b[0m\n\u001b[0;32m----> 1\u001b[0m \u001b[43mdf_so\u001b[49m\u001b[38;5;241m.\u001b[39mhead()\n",
      "\u001b[0;31mNameError\u001b[0m: name 'df_so' is not defined"
     ]
    }
   ],
   "source": [
    "#look at the dataframe\n",
    "df_so.head()"
   ]
  },
  {
   "cell_type": "code",
   "execution_count": 7,
   "metadata": {},
   "outputs": [],
   "source": [
    "#rename the columns\n",
    "df_so.columns = ['og','gene1', 'gene2', 'matches', 'mismatches', 'alignLen', 'PID']"
   ]
  },
  {
   "cell_type": "code",
   "execution_count": 8,
   "metadata": {},
   "outputs": [
    {
     "data": {
      "text/html": [
       "<div>\n",
       "<style scoped>\n",
       "    .dataframe tbody tr th:only-of-type {\n",
       "        vertical-align: middle;\n",
       "    }\n",
       "\n",
       "    .dataframe tbody tr th {\n",
       "        vertical-align: top;\n",
       "    }\n",
       "\n",
       "    .dataframe thead th {\n",
       "        text-align: right;\n",
       "    }\n",
       "</style>\n",
       "<table border=\"1\" class=\"dataframe\">\n",
       "  <thead>\n",
       "    <tr style=\"text-align: right;\">\n",
       "      <th></th>\n",
       "      <th>og</th>\n",
       "      <th>gene1</th>\n",
       "      <th>gene2</th>\n",
       "      <th>matches</th>\n",
       "      <th>mismatches</th>\n",
       "      <th>alignLen</th>\n",
       "      <th>PID</th>\n",
       "    </tr>\n",
       "  </thead>\n",
       "  <tbody>\n",
       "    <tr>\n",
       "      <th>0</th>\n",
       "      <td>10003</td>\n",
       "      <td>SoffiXsponR570.03Ag111200</td>\n",
       "      <td>SoffiXsponR570.03Cg108800</td>\n",
       "      <td>201</td>\n",
       "      <td>9</td>\n",
       "      <td>213</td>\n",
       "      <td>95.714286</td>\n",
       "    </tr>\n",
       "    <tr>\n",
       "      <th>1</th>\n",
       "      <td>10003</td>\n",
       "      <td>SoffiXsponR570.03Bg093000</td>\n",
       "      <td>SoffiXsponR570.03Cg108800</td>\n",
       "      <td>202</td>\n",
       "      <td>8</td>\n",
       "      <td>212</td>\n",
       "      <td>96.190476</td>\n",
       "    </tr>\n",
       "    <tr>\n",
       "      <th>2</th>\n",
       "      <td>10003</td>\n",
       "      <td>SoffiXsponR570.03Cg108800</td>\n",
       "      <td>SoffiXsponR570.03Dg116500</td>\n",
       "      <td>202</td>\n",
       "      <td>8</td>\n",
       "      <td>212</td>\n",
       "      <td>96.190476</td>\n",
       "    </tr>\n",
       "    <tr>\n",
       "      <th>3</th>\n",
       "      <td>10004</td>\n",
       "      <td>SoffiXsponR570.03Ag111300</td>\n",
       "      <td>SoffiXsponR570.03Bg093100</td>\n",
       "      <td>85</td>\n",
       "      <td>0</td>\n",
       "      <td>87</td>\n",
       "      <td>100.000000</td>\n",
       "    </tr>\n",
       "    <tr>\n",
       "      <th>4</th>\n",
       "      <td>10004</td>\n",
       "      <td>SoffiXsponR570.03Ag111300</td>\n",
       "      <td>SoffiXsponR570.03Cg108900</td>\n",
       "      <td>195</td>\n",
       "      <td>5</td>\n",
       "      <td>234</td>\n",
       "      <td>97.500000</td>\n",
       "    </tr>\n",
       "  </tbody>\n",
       "</table>\n",
       "</div>"
      ],
      "text/plain": [
       "      og                      gene1                      gene2  matches  \\\n",
       "0  10003  SoffiXsponR570.03Ag111200  SoffiXsponR570.03Cg108800      201   \n",
       "1  10003  SoffiXsponR570.03Bg093000  SoffiXsponR570.03Cg108800      202   \n",
       "2  10003  SoffiXsponR570.03Cg108800  SoffiXsponR570.03Dg116500      202   \n",
       "3  10004  SoffiXsponR570.03Ag111300  SoffiXsponR570.03Bg093100       85   \n",
       "4  10004  SoffiXsponR570.03Ag111300  SoffiXsponR570.03Cg108900      195   \n",
       "\n",
       "   mismatches  alignLen         PID  \n",
       "0           9       213   95.714286  \n",
       "1           8       212   96.190476  \n",
       "2           8       212   96.190476  \n",
       "3           0        87  100.000000  \n",
       "4           5       234   97.500000  "
      ]
     },
     "execution_count": 8,
     "metadata": {},
     "output_type": "execute_result"
    }
   ],
   "source": [
    "#again, look at dataframe to ensure columns are renamed properly\n",
    "df_so.head()"
   ]
  },
  {
   "cell_type": "code",
   "execution_count": 16,
   "metadata": {},
   "outputs": [],
   "source": [
    "#read in protein pairwise identity dataframe (combined output from PID_calc.R) for only S.spontaneum alleles\n",
    "df_ss=pd.read_csv(\"combinedSpont.25kRandom.screenedWithOG.PIDs.dat\",\n",
    "              header=None,\n",
    "              sep = '\\t')"
   ]
  },
  {
   "cell_type": "code",
   "execution_count": 17,
   "metadata": {},
   "outputs": [],
   "source": [
    "#rename the columns\n",
    "df_ss.columns = ['og','gene1', 'gene2', 'matches', 'mismatches', 'alignLen', 'PID']"
   ]
  },
  {
   "cell_type": "code",
   "execution_count": 18,
   "metadata": {},
   "outputs": [
    {
     "data": {
      "text/plain": [
       "(25000, 7)"
      ]
     },
     "execution_count": 18,
     "metadata": {},
     "output_type": "execute_result"
    }
   ],
   "source": [
    "#what are the number of columns and rows in the dataframe?\n",
    "df_ss.shape"
   ]
  },
  {
   "cell_type": "code",
   "execution_count": 22,
   "metadata": {},
   "outputs": [
    {
     "data": {
      "text/plain": [
       "count    25000.000000\n",
       "mean        86.170791\n",
       "std         19.307651\n",
       "min         16.793893\n",
       "25%         75.476205\n",
       "50%         97.823935\n",
       "75%         99.333333\n",
       "max        100.000000\n",
       "Name: PID, dtype: float64"
      ]
     },
     "execution_count": 22,
     "metadata": {},
     "output_type": "execute_result"
    }
   ],
   "source": [
    "#list general statistics from the pairwise identity column for S.officinarum\n",
    "df_so.PID.describe()"
   ]
  },
  {
   "cell_type": "code",
   "execution_count": 23,
   "metadata": {},
   "outputs": [
    {
     "data": {
      "text/plain": [
       "count    25000.000000\n",
       "mean        83.088862\n",
       "std         20.501633\n",
       "min         19.607843\n",
       "25%         68.792814\n",
       "50%         95.551750\n",
       "75%         98.952880\n",
       "max        100.000000\n",
       "Name: PID, dtype: float64"
      ]
     },
     "execution_count": 23,
     "metadata": {},
     "output_type": "execute_result"
    }
   ],
   "source": [
    "#list general statistics from the pairwise identity column for S.spontaneum\n",
    "df_ss.PID.describe()"
   ]
  },
  {
   "cell_type": "code",
   "execution_count": 27,
   "metadata": {},
   "outputs": [],
   "source": [
    "#calculate the difference in number of matches compared to the total alignment length for S.officinarum\n",
    "#make this a calculation a new column called 'differences'\n",
    "df_so['differences'] = df_so.matches / df_so.alignLen"
   ]
  },
  {
   "cell_type": "code",
   "execution_count": 28,
   "metadata": {},
   "outputs": [
    {
     "data": {
      "text/html": [
       "<div>\n",
       "<style scoped>\n",
       "    .dataframe tbody tr th:only-of-type {\n",
       "        vertical-align: middle;\n",
       "    }\n",
       "\n",
       "    .dataframe tbody tr th {\n",
       "        vertical-align: top;\n",
       "    }\n",
       "\n",
       "    .dataframe thead th {\n",
       "        text-align: right;\n",
       "    }\n",
       "</style>\n",
       "<table border=\"1\" class=\"dataframe\">\n",
       "  <thead>\n",
       "    <tr style=\"text-align: right;\">\n",
       "      <th></th>\n",
       "      <th>og</th>\n",
       "      <th>gene1</th>\n",
       "      <th>gene2</th>\n",
       "      <th>matches</th>\n",
       "      <th>mismatches</th>\n",
       "      <th>alignLen</th>\n",
       "      <th>PID</th>\n",
       "      <th>differences</th>\n",
       "    </tr>\n",
       "  </thead>\n",
       "  <tbody>\n",
       "    <tr>\n",
       "      <th>0</th>\n",
       "      <td>10003</td>\n",
       "      <td>SoffiXsponR570.03Ag111200</td>\n",
       "      <td>SoffiXsponR570.03Cg108800</td>\n",
       "      <td>201</td>\n",
       "      <td>9</td>\n",
       "      <td>213</td>\n",
       "      <td>95.714286</td>\n",
       "      <td>0.943662</td>\n",
       "    </tr>\n",
       "    <tr>\n",
       "      <th>1</th>\n",
       "      <td>10003</td>\n",
       "      <td>SoffiXsponR570.03Bg093000</td>\n",
       "      <td>SoffiXsponR570.03Cg108800</td>\n",
       "      <td>202</td>\n",
       "      <td>8</td>\n",
       "      <td>212</td>\n",
       "      <td>96.190476</td>\n",
       "      <td>0.952830</td>\n",
       "    </tr>\n",
       "    <tr>\n",
       "      <th>2</th>\n",
       "      <td>10003</td>\n",
       "      <td>SoffiXsponR570.03Cg108800</td>\n",
       "      <td>SoffiXsponR570.03Dg116500</td>\n",
       "      <td>202</td>\n",
       "      <td>8</td>\n",
       "      <td>212</td>\n",
       "      <td>96.190476</td>\n",
       "      <td>0.952830</td>\n",
       "    </tr>\n",
       "    <tr>\n",
       "      <th>3</th>\n",
       "      <td>10004</td>\n",
       "      <td>SoffiXsponR570.03Ag111300</td>\n",
       "      <td>SoffiXsponR570.03Bg093100</td>\n",
       "      <td>85</td>\n",
       "      <td>0</td>\n",
       "      <td>87</td>\n",
       "      <td>100.000000</td>\n",
       "      <td>0.977011</td>\n",
       "    </tr>\n",
       "    <tr>\n",
       "      <th>4</th>\n",
       "      <td>10004</td>\n",
       "      <td>SoffiXsponR570.03Ag111300</td>\n",
       "      <td>SoffiXsponR570.03Cg108900</td>\n",
       "      <td>195</td>\n",
       "      <td>5</td>\n",
       "      <td>234</td>\n",
       "      <td>97.500000</td>\n",
       "      <td>0.833333</td>\n",
       "    </tr>\n",
       "  </tbody>\n",
       "</table>\n",
       "</div>"
      ],
      "text/plain": [
       "      og                      gene1                      gene2  matches  \\\n",
       "0  10003  SoffiXsponR570.03Ag111200  SoffiXsponR570.03Cg108800      201   \n",
       "1  10003  SoffiXsponR570.03Bg093000  SoffiXsponR570.03Cg108800      202   \n",
       "2  10003  SoffiXsponR570.03Cg108800  SoffiXsponR570.03Dg116500      202   \n",
       "3  10004  SoffiXsponR570.03Ag111300  SoffiXsponR570.03Bg093100       85   \n",
       "4  10004  SoffiXsponR570.03Ag111300  SoffiXsponR570.03Cg108900      195   \n",
       "\n",
       "   mismatches  alignLen         PID  differences  \n",
       "0           9       213   95.714286     0.943662  \n",
       "1           8       212   96.190476     0.952830  \n",
       "2           8       212   96.190476     0.952830  \n",
       "3           0        87  100.000000     0.977011  \n",
       "4           5       234   97.500000     0.833333  "
      ]
     },
     "execution_count": 28,
     "metadata": {},
     "output_type": "execute_result"
    }
   ],
   "source": [
    "#look at the dataframe\n",
    "df_so.head()"
   ]
  },
  {
   "cell_type": "code",
   "execution_count": null,
   "metadata": {},
   "outputs": [],
   "source": []
  },
  {
   "cell_type": "code",
   "execution_count": 30,
   "metadata": {},
   "outputs": [
    {
     "data": {
      "text/plain": [
       "0.784473982336503"
      ]
     },
     "execution_count": 30,
     "metadata": {},
     "output_type": "execute_result"
    }
   ],
   "source": [
    "#what is the mean number of differences among S.officinarum genes?\n",
    "df_so.differences.mean()"
   ]
  },
  {
   "cell_type": "code",
   "execution_count": 32,
   "metadata": {},
   "outputs": [],
   "source": [
    "#calculate the difference in number of matches compared to the total alignment length for S.spontaneum\n",
    "#make this a calculation a new column called 'differences'\n",
    "df_ss['differences'] = df_ss.matches / df_ss.alignLen"
   ]
  },
  {
   "cell_type": "code",
   "execution_count": 33,
   "metadata": {},
   "outputs": [
    {
     "data": {
      "text/plain": [
       "0.7540835374768604"
      ]
     },
     "execution_count": 33,
     "metadata": {},
     "output_type": "execute_result"
    }
   ],
   "source": [
    "#what is the mean number of differences among S.spontaneum genes?\n",
    "df_ss.differences.mean()"
   ]
  },
  {
   "cell_type": "code",
   "execution_count": 35,
   "metadata": {},
   "outputs": [
    {
     "data": {
      "text/html": [
       "<div>\n",
       "<style scoped>\n",
       "    .dataframe tbody tr th:only-of-type {\n",
       "        vertical-align: middle;\n",
       "    }\n",
       "\n",
       "    .dataframe tbody tr th {\n",
       "        vertical-align: top;\n",
       "    }\n",
       "\n",
       "    .dataframe thead th {\n",
       "        text-align: right;\n",
       "    }\n",
       "</style>\n",
       "<table border=\"1\" class=\"dataframe\">\n",
       "  <thead>\n",
       "    <tr style=\"text-align: right;\">\n",
       "      <th></th>\n",
       "      <th>og</th>\n",
       "      <th>gene1</th>\n",
       "      <th>gene2</th>\n",
       "      <th>matches</th>\n",
       "      <th>mismatches</th>\n",
       "      <th>alignLen</th>\n",
       "      <th>PID</th>\n",
       "      <th>differences</th>\n",
       "      <th>pg</th>\n",
       "    </tr>\n",
       "  </thead>\n",
       "  <tbody>\n",
       "    <tr>\n",
       "      <th>0</th>\n",
       "      <td>10003</td>\n",
       "      <td>SoffiXsponR570.03Ag111200</td>\n",
       "      <td>SoffiXsponR570.03Cg108800</td>\n",
       "      <td>201</td>\n",
       "      <td>9</td>\n",
       "      <td>213</td>\n",
       "      <td>95.714286</td>\n",
       "      <td>0.943662</td>\n",
       "      <td>OFF</td>\n",
       "    </tr>\n",
       "    <tr>\n",
       "      <th>1</th>\n",
       "      <td>10003</td>\n",
       "      <td>SoffiXsponR570.03Bg093000</td>\n",
       "      <td>SoffiXsponR570.03Cg108800</td>\n",
       "      <td>202</td>\n",
       "      <td>8</td>\n",
       "      <td>212</td>\n",
       "      <td>96.190476</td>\n",
       "      <td>0.952830</td>\n",
       "      <td>OFF</td>\n",
       "    </tr>\n",
       "    <tr>\n",
       "      <th>2</th>\n",
       "      <td>10003</td>\n",
       "      <td>SoffiXsponR570.03Cg108800</td>\n",
       "      <td>SoffiXsponR570.03Dg116500</td>\n",
       "      <td>202</td>\n",
       "      <td>8</td>\n",
       "      <td>212</td>\n",
       "      <td>96.190476</td>\n",
       "      <td>0.952830</td>\n",
       "      <td>OFF</td>\n",
       "    </tr>\n",
       "    <tr>\n",
       "      <th>3</th>\n",
       "      <td>10004</td>\n",
       "      <td>SoffiXsponR570.03Ag111300</td>\n",
       "      <td>SoffiXsponR570.03Bg093100</td>\n",
       "      <td>85</td>\n",
       "      <td>0</td>\n",
       "      <td>87</td>\n",
       "      <td>100.000000</td>\n",
       "      <td>0.977011</td>\n",
       "      <td>OFF</td>\n",
       "    </tr>\n",
       "    <tr>\n",
       "      <th>4</th>\n",
       "      <td>10004</td>\n",
       "      <td>SoffiXsponR570.03Ag111300</td>\n",
       "      <td>SoffiXsponR570.03Cg108900</td>\n",
       "      <td>195</td>\n",
       "      <td>5</td>\n",
       "      <td>234</td>\n",
       "      <td>97.500000</td>\n",
       "      <td>0.833333</td>\n",
       "      <td>OFF</td>\n",
       "    </tr>\n",
       "  </tbody>\n",
       "</table>\n",
       "</div>"
      ],
      "text/plain": [
       "      og                      gene1                      gene2  matches  \\\n",
       "0  10003  SoffiXsponR570.03Ag111200  SoffiXsponR570.03Cg108800      201   \n",
       "1  10003  SoffiXsponR570.03Bg093000  SoffiXsponR570.03Cg108800      202   \n",
       "2  10003  SoffiXsponR570.03Cg108800  SoffiXsponR570.03Dg116500      202   \n",
       "3  10004  SoffiXsponR570.03Ag111300  SoffiXsponR570.03Bg093100       85   \n",
       "4  10004  SoffiXsponR570.03Ag111300  SoffiXsponR570.03Cg108900      195   \n",
       "\n",
       "   mismatches  alignLen         PID  differences   pg  \n",
       "0           9       213   95.714286     0.943662  OFF  \n",
       "1           8       212   96.190476     0.952830  OFF  \n",
       "2           8       212   96.190476     0.952830  OFF  \n",
       "3           0        87  100.000000     0.977011  OFF  \n",
       "4           5       234   97.500000     0.833333  OFF  "
      ]
     },
     "execution_count": 35,
     "metadata": {},
     "output_type": "execute_result"
    }
   ],
   "source": [
    "df_so.head()"
   ]
  },
  {
   "cell_type": "code",
   "execution_count": 74,
   "metadata": {},
   "outputs": [],
   "source": [
    "#import scipy stats for statistical testing\n",
    "import scipy.stats as stats"
   ]
  },
  {
   "cell_type": "code",
   "execution_count": 76,
   "metadata": {},
   "outputs": [],
   "source": [
    "#make new column \"mismatchDiff\" of number of mismatches divided by the alignment length for S.spontaneum \n",
    "df_ss['mismatchDiff'] = df_ss.mismatches / df_ss.alignLen"
   ]
  },
  {
   "cell_type": "code",
   "execution_count": 77,
   "metadata": {},
   "outputs": [],
   "source": [
    "#make new column \"mismatchDiff\" of number of mismatches divided by the alignment length for S.officinarum\n",
    "df_so['mismatchDiff'] = df_so.mismatches / df_so.alignLen"
   ]
  },
  {
   "cell_type": "code",
   "execution_count": 78,
   "metadata": {},
   "outputs": [
    {
     "data": {
      "text/plain": [
       "MannwhitneyuResult(statistic=271253664.5, pvalue=3.853894550040055e-144)"
      ]
     },
     "execution_count": 78,
     "metadata": {},
     "output_type": "execute_result"
    }
   ],
   "source": [
    "#perform a non-parametric mann whitney U test between the mismatch differences between \n",
    "#S.officnarum and S.spontaneum\n",
    "stats.mannwhitneyu(df_so.mismatchDiff,df_ss.mismatchDiff,alternative = 'two-sided')"
   ]
  },
  {
   "cell_type": "code",
   "execution_count": 83,
   "metadata": {},
   "outputs": [
    {
     "data": {
      "text/plain": [
       "83.08886222458027"
      ]
     },
     "execution_count": 83,
     "metadata": {},
     "output_type": "execute_result"
    }
   ],
   "source": [
    "#what is the mean pairwise identity among S. spontaneum alleles?\n",
    "df_ss.PID.mean()"
   ]
  },
  {
   "cell_type": "code",
   "execution_count": 84,
   "metadata": {},
   "outputs": [
    {
     "data": {
      "text/plain": [
       "86.17079097159365"
      ]
     },
     "execution_count": 84,
     "metadata": {},
     "output_type": "execute_result"
    }
   ],
   "source": [
    "#what is the mean pairwise identity among S. officnarum alleles?\n",
    "df_so.PID.mean()"
   ]
  },
  {
   "cell_type": "code",
   "execution_count": 85,
   "metadata": {},
   "outputs": [
    {
     "data": {
      "text/plain": [
       "MannwhitneyuResult(statistic=351855456.5, pvalue=2.0849248976816145e-131)"
      ]
     },
     "execution_count": 85,
     "metadata": {},
     "output_type": "execute_result"
    }
   ],
   "source": [
    "#perform a non-parametric mann whitney U test between the pairwise identity among S.officinarum and S.spontaneum alleles \n",
    "\n",
    "stats.mannwhitneyu(df_so.PID,df_ss.PID,alternative = 'two-sided')"
   ]
  }
 ],
 "metadata": {
  "kernelspec": {
   "display_name": "Python 3 (ipykernel)",
   "language": "python",
   "name": "python3"
  },
  "language_info": {
   "codemirror_mode": {
    "name": "ipython",
    "version": 3
   },
   "file_extension": ".py",
   "mimetype": "text/x-python",
   "name": "python",
   "nbconvert_exporter": "python",
   "pygments_lexer": "ipython3",
   "version": "3.9.12"
  }
 },
 "nbformat": 4,
 "nbformat_minor": 4
}
